{
 "cells": [
  {
   "cell_type": "code",
   "execution_count": 1,
   "id": "355338e8",
   "metadata": {},
   "outputs": [],
   "source": [
    "import matplotlib.pyplot as plt\n",
    "import numpy as np\n",
    "import pandas as pd\n",
    "from scipy.stats import linregress\n",
    "import seaborn as sns\n",
    "from sqlalchemy import create_engine\n",
    "\n",
    "from bs4 import BeautifulSoup\n",
    "from splinter import Browser\n",
    "from webdriver_manager.chrome import ChromeDriverManager\n",
    "\n",
    "# from login_credentials import username\n",
    "# from login_credentials import password"
   ]
  },
  {
   "cell_type": "markdown",
   "id": "71b697a0",
   "metadata": {},
   "source": [
    "# Store CSV file into DataFrame\n"
   ]
  },
  {
   "cell_type": "code",
   "execution_count": 2,
   "id": "788166ff",
   "metadata": {},
   "outputs": [],
   "source": [
    "# read csv file Android VS IOS\n",
    "android_vs_ios_csv = \"static/Data/antutu_android_vs_ios_v4.csv\"\n"
   ]
  },
  {
   "cell_type": "code",
   "execution_count": 3,
   "id": "1fe99578",
   "metadata": {
    "scrolled": true
   },
   "outputs": [
    {
     "data": {
      "text/html": [
       "<div>\n",
       "<style scoped>\n",
       "    .dataframe tbody tr th:only-of-type {\n",
       "        vertical-align: middle;\n",
       "    }\n",
       "\n",
       "    .dataframe tbody tr th {\n",
       "        vertical-align: top;\n",
       "    }\n",
       "\n",
       "    .dataframe thead th {\n",
       "        text-align: right;\n",
       "    }\n",
       "</style>\n",
       "<table border=\"1\" class=\"dataframe\">\n",
       "  <thead>\n",
       "    <tr style=\"text-align: right;\">\n",
       "      <th></th>\n",
       "      <th>ï»¿Device</th>\n",
       "      <th>CPU</th>\n",
       "      <th>GPU</th>\n",
       "      <th>MEM</th>\n",
       "      <th>UX</th>\n",
       "      <th>Total Score</th>\n",
       "    </tr>\n",
       "  </thead>\n",
       "  <tbody>\n",
       "    <tr>\n",
       "      <th>0</th>\n",
       "      <td>iPad Pro 5 (12.9-inch)Â (8+256)</td>\n",
       "      <td>351192</td>\n",
       "      <td>741383</td>\n",
       "      <td>183160</td>\n",
       "      <td>153993</td>\n",
       "      <td>1429728</td>\n",
       "    </tr>\n",
       "    <tr>\n",
       "      <th>1</th>\n",
       "      <td>iPad Pro 5 (11-inch)Â (8+128)</td>\n",
       "      <td>351212</td>\n",
       "      <td>722399</td>\n",
       "      <td>137145</td>\n",
       "      <td>149463</td>\n",
       "      <td>1360219</td>\n",
       "    </tr>\n",
       "    <tr>\n",
       "      <th>2</th>\n",
       "      <td>iPad Air 5Â (8+64)</td>\n",
       "      <td>345275</td>\n",
       "      <td>635015</td>\n",
       "      <td>107955</td>\n",
       "      <td>140140</td>\n",
       "      <td>1228385</td>\n",
       "    </tr>\n",
       "    <tr>\n",
       "      <th>3</th>\n",
       "      <td>Red Magic 7Â (S-8 Gen 1Â 18/256)</td>\n",
       "      <td>235998</td>\n",
       "      <td>445681</td>\n",
       "      <td>175442</td>\n",
       "      <td>181650</td>\n",
       "      <td>1038771</td>\n",
       "    </tr>\n",
       "    <tr>\n",
       "      <th>4</th>\n",
       "      <td>Redmi K50 ProÂ (M-9000Â 8/128)</td>\n",
       "      <td>244999</td>\n",
       "      <td>390026</td>\n",
       "      <td>169449</td>\n",
       "      <td>182367</td>\n",
       "      <td>986840</td>\n",
       "    </tr>\n",
       "  </tbody>\n",
       "</table>\n",
       "</div>"
      ],
      "text/plain": [
       "                          ï»¿Device     CPU     GPU     MEM      UX  \\\n",
       "0   iPad Pro 5 (12.9-inch)Â (8+256)  351192  741383  183160  153993   \n",
       "1     iPad Pro 5 (11-inch)Â (8+128)  351212  722399  137145  149463   \n",
       "2                iPad Air 5Â (8+64)  345275  635015  107955  140140   \n",
       "3  Red Magic 7Â (S-8 Gen 1Â 18/256)  235998  445681  175442  181650   \n",
       "4    Redmi K50 ProÂ (M-9000Â 8/128)  244999  390026  169449  182367   \n",
       "\n",
       "   Total Score  \n",
       "0      1429728  \n",
       "1      1360219  \n",
       "2      1228385  \n",
       "3      1038771  \n",
       "4       986840  "
      ]
     },
     "execution_count": 3,
     "metadata": {},
     "output_type": "execute_result"
    }
   ],
   "source": [
    "# Create dataframe\n",
    "android_vs_ios_df = pd.read_csv(android_vs_ios_csv, encoding='iso-8859-1')\n",
    "android_vs_ios_df.head()"
   ]
  },
  {
   "cell_type": "code",
   "execution_count": 4,
   "id": "6c9165ee",
   "metadata": {},
   "outputs": [
    {
     "name": "stdout",
     "output_type": "stream",
     "text": [
      "ï»¿Device      179\n",
      "CPU            179\n",
      "GPU            179\n",
      "MEM            179\n",
      "UX             179\n",
      "Total Score    179\n",
      "dtype: int64\n"
     ]
    }
   ],
   "source": [
    "# Preforming a .count to make sure that the data is complete\n",
    "print(android_vs_ios_df.count())"
   ]
  },
  {
   "cell_type": "code",
   "execution_count": 5,
   "id": "59171274",
   "metadata": {},
   "outputs": [],
   "source": [
    "# read csv file Benchmark\n",
    "benchmark_csv = \"static/Data/ML_ALL_benchmarks.csv\""
   ]
  },
  {
   "cell_type": "code",
   "execution_count": 6,
   "id": "f5e24c21",
   "metadata": {},
   "outputs": [
    {
     "data": {
      "text/html": [
       "<div>\n",
       "<style scoped>\n",
       "    .dataframe tbody tr th:only-of-type {\n",
       "        vertical-align: middle;\n",
       "    }\n",
       "\n",
       "    .dataframe tbody tr th {\n",
       "        vertical-align: top;\n",
       "    }\n",
       "\n",
       "    .dataframe thead th {\n",
       "        text-align: right;\n",
       "    }\n",
       "</style>\n",
       "<table border=\"1\" class=\"dataframe\">\n",
       "  <thead>\n",
       "    <tr style=\"text-align: right;\">\n",
       "      <th></th>\n",
       "      <th>ï»¿device</th>\n",
       "      <th>company</th>\n",
       "      <th>cpuName</th>\n",
       "      <th>cores</th>\n",
       "      <th>clock</th>\n",
       "      <th>cpuScore</th>\n",
       "      <th>gpuScore</th>\n",
       "      <th>npuScore</th>\n",
       "    </tr>\n",
       "  </thead>\n",
       "  <tbody>\n",
       "    <tr>\n",
       "      <th>0</th>\n",
       "      <td>iPhone 13 Pro Max</td>\n",
       "      <td>Apple</td>\n",
       "      <td>A15 Bionic</td>\n",
       "      <td>6</td>\n",
       "      <td>3230</td>\n",
       "      <td>935</td>\n",
       "      <td>2273</td>\n",
       "      <td>2676</td>\n",
       "    </tr>\n",
       "    <tr>\n",
       "      <th>1</th>\n",
       "      <td>iPhone 13 Pro</td>\n",
       "      <td>Apple</td>\n",
       "      <td>A15 Bionic</td>\n",
       "      <td>6</td>\n",
       "      <td>3230</td>\n",
       "      <td>931</td>\n",
       "      <td>2261</td>\n",
       "      <td>2665</td>\n",
       "    </tr>\n",
       "    <tr>\n",
       "      <th>2</th>\n",
       "      <td>iPhone 13 mini</td>\n",
       "      <td>Apple</td>\n",
       "      <td>A15 Bionic</td>\n",
       "      <td>6</td>\n",
       "      <td>3230</td>\n",
       "      <td>924</td>\n",
       "      <td>1852</td>\n",
       "      <td>2660</td>\n",
       "    </tr>\n",
       "    <tr>\n",
       "      <th>3</th>\n",
       "      <td>iPad Pro (12.9-inch 5th generation)</td>\n",
       "      <td>Apple</td>\n",
       "      <td>M1</td>\n",
       "      <td>8</td>\n",
       "      <td>3190</td>\n",
       "      <td>1013</td>\n",
       "      <td>2824</td>\n",
       "      <td>2657</td>\n",
       "    </tr>\n",
       "    <tr>\n",
       "      <th>4</th>\n",
       "      <td>iPad Pro (11-inch 3rd generation)</td>\n",
       "      <td>Apple</td>\n",
       "      <td>M1</td>\n",
       "      <td>8</td>\n",
       "      <td>3190</td>\n",
       "      <td>1011</td>\n",
       "      <td>2842</td>\n",
       "      <td>2656</td>\n",
       "    </tr>\n",
       "  </tbody>\n",
       "</table>\n",
       "</div>"
      ],
      "text/plain": [
       "                             ï»¿device company        cpuName  cores  clock  \\\n",
       "0                    iPhone 13 Pro Max   Apple  A15 Bionic         6   3230   \n",
       "1                        iPhone 13 Pro   Apple  A15 Bionic         6   3230   \n",
       "2                       iPhone 13 mini   Apple  A15 Bionic         6   3230   \n",
       "3  iPad Pro (12.9-inch 5th generation)   Apple         M1          8   3190   \n",
       "4    iPad Pro (11-inch 3rd generation)   Apple         M1          8   3190   \n",
       "\n",
       "   cpuScore  gpuScore  npuScore  \n",
       "0       935      2273      2676  \n",
       "1       931      2261      2665  \n",
       "2       924      1852      2660  \n",
       "3      1013      2824      2657  \n",
       "4      1011      2842      2656  "
      ]
     },
     "execution_count": 6,
     "metadata": {},
     "output_type": "execute_result"
    }
   ],
   "source": [
    "# Create dataframe\n",
    "benchmark_df = pd.read_csv(benchmark_csv, encoding='iso-8859-1')\n",
    "benchmark_df.head()"
   ]
  },
  {
   "cell_type": "code",
   "execution_count": 7,
   "id": "6224cee5",
   "metadata": {
    "scrolled": true
   },
   "outputs": [
    {
     "name": "stdout",
     "output_type": "stream",
     "text": [
      "ï»¿device    188\n",
      "company      188\n",
      "cpuName      188\n",
      "cores        188\n",
      "clock        188\n",
      "cpuScore     188\n",
      "gpuScore     188\n",
      "npuScore     188\n",
      "dtype: int64\n"
     ]
    }
   ],
   "source": [
    "# Preforming a .count to make sure that the data is complete\n",
    "print(benchmark_df.count())"
   ]
  },
  {
   "cell_type": "code",
   "execution_count": 8,
   "id": "61c041aa",
   "metadata": {},
   "outputs": [],
   "source": [
    "# read csv file Smartphone CPU\n",
    "smartphone_cpu_csv = \"static/Data/smartphone_cpu_stats.csv\""
   ]
  },
  {
   "cell_type": "code",
   "execution_count": 9,
   "id": "5961874e",
   "metadata": {},
   "outputs": [
    {
     "data": {
      "text/html": [
       "<div>\n",
       "<style scoped>\n",
       "    .dataframe tbody tr th:only-of-type {\n",
       "        vertical-align: middle;\n",
       "    }\n",
       "\n",
       "    .dataframe tbody tr th {\n",
       "        vertical-align: top;\n",
       "    }\n",
       "\n",
       "    .dataframe thead th {\n",
       "        text-align: right;\n",
       "    }\n",
       "</style>\n",
       "<table border=\"1\" class=\"dataframe\">\n",
       "  <thead>\n",
       "    <tr style=\"text-align: right;\">\n",
       "      <th></th>\n",
       "      <th>ï»¿rank</th>\n",
       "      <th>company</th>\n",
       "      <th>cpuName</th>\n",
       "      <th>geekbenchSingle</th>\n",
       "      <th>geekbenchMulti</th>\n",
       "      <th>antutu9</th>\n",
       "      <th>coreCount</th>\n",
       "      <th>coreConfig</th>\n",
       "      <th>clockSpeed</th>\n",
       "      <th>gpu</th>\n",
       "    </tr>\n",
       "  </thead>\n",
       "  <tbody>\n",
       "    <tr>\n",
       "      <th>0</th>\n",
       "      <td>1</td>\n",
       "      <td>Apple</td>\n",
       "      <td>A15 Bionic</td>\n",
       "      <td>1727</td>\n",
       "      <td>4688</td>\n",
       "      <td>794346</td>\n",
       "      <td>6</td>\n",
       "      <td>Â (2+4)</td>\n",
       "      <td>3223</td>\n",
       "      <td>Apple GPU</td>\n",
       "    </tr>\n",
       "    <tr>\n",
       "      <th>1</th>\n",
       "      <td>2</td>\n",
       "      <td>MediaTek</td>\n",
       "      <td>Dimensity 9000</td>\n",
       "      <td>1269</td>\n",
       "      <td>4267</td>\n",
       "      <td>1017817</td>\n",
       "      <td>8</td>\n",
       "      <td>Â (1+3+4)</td>\n",
       "      <td>3050</td>\n",
       "      <td>Mali-G710</td>\n",
       "    </tr>\n",
       "    <tr>\n",
       "      <th>2</th>\n",
       "      <td>3</td>\n",
       "      <td>Qualcomm</td>\n",
       "      <td>Snapdragon 8 Gen 1</td>\n",
       "      <td>1213</td>\n",
       "      <td>3765</td>\n",
       "      <td>1028349</td>\n",
       "      <td>8</td>\n",
       "      <td>Â (1+3+4)</td>\n",
       "      <td>3000</td>\n",
       "      <td>Adreno 730</td>\n",
       "    </tr>\n",
       "    <tr>\n",
       "      <th>3</th>\n",
       "      <td>4</td>\n",
       "      <td>Apple</td>\n",
       "      <td>A14 Bionic</td>\n",
       "      <td>1581</td>\n",
       "      <td>4093</td>\n",
       "      <td>730211</td>\n",
       "      <td>6</td>\n",
       "      <td>Â (2+4)</td>\n",
       "      <td>3100</td>\n",
       "      <td>Apple GPU</td>\n",
       "    </tr>\n",
       "    <tr>\n",
       "      <th>4</th>\n",
       "      <td>5</td>\n",
       "      <td>Qualcomm</td>\n",
       "      <td>Snapdragon 888 Plus</td>\n",
       "      <td>1162</td>\n",
       "      <td>3626</td>\n",
       "      <td>838764</td>\n",
       "      <td>8</td>\n",
       "      <td>Â (1+3+4)</td>\n",
       "      <td>2995</td>\n",
       "      <td>Adreno 660</td>\n",
       "    </tr>\n",
       "  </tbody>\n",
       "</table>\n",
       "</div>"
      ],
      "text/plain": [
       "   ï»¿rank   company              cpuName  geekbenchSingle  geekbenchMulti  \\\n",
       "0        1     Apple           A15 Bionic             1727            4688   \n",
       "1        2  MediaTek       Dimensity 9000             1269            4267   \n",
       "2        3  Qualcomm   Snapdragon 8 Gen 1             1213            3765   \n",
       "3        4     Apple           A14 Bionic             1581            4093   \n",
       "4        5  Qualcomm  Snapdragon 888 Plus             1162            3626   \n",
       "\n",
       "   antutu9  coreCount coreConfig  clockSpeed         gpu  \n",
       "0   794346          6    Â (2+4)        3223   Apple GPU  \n",
       "1  1017817          8  Â (1+3+4)        3050   Mali-G710  \n",
       "2  1028349          8  Â (1+3+4)        3000  Adreno 730  \n",
       "3   730211          6    Â (2+4)        3100   Apple GPU  \n",
       "4   838764          8  Â (1+3+4)        2995  Adreno 660  "
      ]
     },
     "execution_count": 9,
     "metadata": {},
     "output_type": "execute_result"
    }
   ],
   "source": [
    "# Create dataframe\n",
    "smartphone_cpu_df = pd.read_csv(smartphone_cpu_csv, encoding='iso-8859-1')\n",
    "smartphone_cpu_df.head()"
   ]
  },
  {
   "cell_type": "code",
   "execution_count": 10,
   "id": "a9c3f5b5",
   "metadata": {
    "scrolled": true
   },
   "outputs": [
    {
     "name": "stdout",
     "output_type": "stream",
     "text": [
      "ï»¿rank            125\n",
      "company            125\n",
      "cpuName            125\n",
      "geekbenchSingle    125\n",
      "geekbenchMulti     125\n",
      "antutu9            125\n",
      "coreCount          125\n",
      "coreConfig         125\n",
      "clockSpeed         125\n",
      "gpu                125\n",
      "dtype: int64\n"
     ]
    }
   ],
   "source": [
    "# Preforming a .count to make sure that the data is complete\n",
    "print(smartphone_cpu_df.count())"
   ]
  },
  {
   "cell_type": "code",
   "execution_count": 11,
   "id": "619d2e19",
   "metadata": {},
   "outputs": [
    {
     "data": {
      "text/html": [
       "<div>\n",
       "<style scoped>\n",
       "    .dataframe tbody tr th:only-of-type {\n",
       "        vertical-align: middle;\n",
       "    }\n",
       "\n",
       "    .dataframe tbody tr th {\n",
       "        vertical-align: top;\n",
       "    }\n",
       "\n",
       "    .dataframe thead th {\n",
       "        text-align: right;\n",
       "    }\n",
       "</style>\n",
       "<table border=\"1\" class=\"dataframe\">\n",
       "  <thead>\n",
       "    <tr style=\"text-align: right;\">\n",
       "      <th></th>\n",
       "      <th>ï»¿rank</th>\n",
       "      <th>company</th>\n",
       "      <th>cpuName</th>\n",
       "      <th>geekbenchSingle</th>\n",
       "      <th>geekbenchMulti</th>\n",
       "      <th>antutu9</th>\n",
       "      <th>coreCount</th>\n",
       "      <th>coreConfig</th>\n",
       "      <th>clockSpeed</th>\n",
       "      <th>gpu</th>\n",
       "    </tr>\n",
       "  </thead>\n",
       "  <tbody>\n",
       "    <tr>\n",
       "      <th>0</th>\n",
       "      <td>1</td>\n",
       "      <td>Apple</td>\n",
       "      <td>A15 Bionic</td>\n",
       "      <td>1727</td>\n",
       "      <td>4688</td>\n",
       "      <td>794346</td>\n",
       "      <td>6</td>\n",
       "      <td>Â (2+4)</td>\n",
       "      <td>3223</td>\n",
       "      <td>Apple GPU</td>\n",
       "    </tr>\n",
       "    <tr>\n",
       "      <th>1</th>\n",
       "      <td>2</td>\n",
       "      <td>MediaTek</td>\n",
       "      <td>Dimensity 9000</td>\n",
       "      <td>1269</td>\n",
       "      <td>4267</td>\n",
       "      <td>1017817</td>\n",
       "      <td>8</td>\n",
       "      <td>Â (1+3+4)</td>\n",
       "      <td>3050</td>\n",
       "      <td>Mali-G710</td>\n",
       "    </tr>\n",
       "    <tr>\n",
       "      <th>2</th>\n",
       "      <td>3</td>\n",
       "      <td>Qualcomm</td>\n",
       "      <td>Snapdragon 8 Gen 1</td>\n",
       "      <td>1213</td>\n",
       "      <td>3765</td>\n",
       "      <td>1028349</td>\n",
       "      <td>8</td>\n",
       "      <td>Â (1+3+4)</td>\n",
       "      <td>3000</td>\n",
       "      <td>Adreno 730</td>\n",
       "    </tr>\n",
       "    <tr>\n",
       "      <th>3</th>\n",
       "      <td>4</td>\n",
       "      <td>Apple</td>\n",
       "      <td>A14 Bionic</td>\n",
       "      <td>1581</td>\n",
       "      <td>4093</td>\n",
       "      <td>730211</td>\n",
       "      <td>6</td>\n",
       "      <td>Â (2+4)</td>\n",
       "      <td>3100</td>\n",
       "      <td>Apple GPU</td>\n",
       "    </tr>\n",
       "    <tr>\n",
       "      <th>4</th>\n",
       "      <td>5</td>\n",
       "      <td>Qualcomm</td>\n",
       "      <td>Snapdragon 888 Plus</td>\n",
       "      <td>1162</td>\n",
       "      <td>3626</td>\n",
       "      <td>838764</td>\n",
       "      <td>8</td>\n",
       "      <td>Â (1+3+4)</td>\n",
       "      <td>2995</td>\n",
       "      <td>Adreno 660</td>\n",
       "    </tr>\n",
       "  </tbody>\n",
       "</table>\n",
       "</div>"
      ],
      "text/plain": [
       "   ï»¿rank   company              cpuName  geekbenchSingle  geekbenchMulti  \\\n",
       "0        1     Apple           A15 Bionic             1727            4688   \n",
       "1        2  MediaTek       Dimensity 9000             1269            4267   \n",
       "2        3  Qualcomm   Snapdragon 8 Gen 1             1213            3765   \n",
       "3        4     Apple           A14 Bionic             1581            4093   \n",
       "4        5  Qualcomm  Snapdragon 888 Plus             1162            3626   \n",
       "\n",
       "   antutu9  coreCount coreConfig  clockSpeed         gpu  \n",
       "0   794346          6    Â (2+4)        3223   Apple GPU  \n",
       "1  1017817          8  Â (1+3+4)        3050   Mali-G710  \n",
       "2  1028349          8  Â (1+3+4)        3000  Adreno 730  \n",
       "3   730211          6    Â (2+4)        3100   Apple GPU  \n",
       "4   838764          8  Â (1+3+4)        2995  Adreno 660  "
      ]
     },
     "execution_count": 11,
     "metadata": {},
     "output_type": "execute_result"
    }
   ],
   "source": [
    "smartphone_cpu_df = pd.read_csv(smartphone_cpu_csv, encoding='iso-8859-1')\n",
    "smartphone_cpu_df.head()"
   ]
  },
  {
   "cell_type": "markdown",
   "id": "75f37b4a",
   "metadata": {},
   "source": [
    "# Clean the data"
   ]
  },
  {
   "cell_type": "code",
   "execution_count": 12,
   "id": "64e58318",
   "metadata": {
    "scrolled": true
   },
   "outputs": [
    {
     "data": {
      "text/html": [
       "<div>\n",
       "<style scoped>\n",
       "    .dataframe tbody tr th:only-of-type {\n",
       "        vertical-align: middle;\n",
       "    }\n",
       "\n",
       "    .dataframe tbody tr th {\n",
       "        vertical-align: top;\n",
       "    }\n",
       "\n",
       "    .dataframe thead th {\n",
       "        text-align: right;\n",
       "    }\n",
       "</style>\n",
       "<table border=\"1\" class=\"dataframe\">\n",
       "  <thead>\n",
       "    <tr style=\"text-align: right;\">\n",
       "      <th></th>\n",
       "      <th>ï»¿Device</th>\n",
       "      <th>CPU</th>\n",
       "      <th>GPU</th>\n",
       "      <th>MEM</th>\n",
       "      <th>UX</th>\n",
       "      <th>Total Score</th>\n",
       "    </tr>\n",
       "  </thead>\n",
       "  <tbody>\n",
       "    <tr>\n",
       "      <th>0</th>\n",
       "      <td>iPad Pro 5 (12.9-inch)Â (8+256)</td>\n",
       "      <td>351192</td>\n",
       "      <td>741383</td>\n",
       "      <td>183160</td>\n",
       "      <td>153993</td>\n",
       "      <td>1429728</td>\n",
       "    </tr>\n",
       "    <tr>\n",
       "      <th>1</th>\n",
       "      <td>iPad Pro 5 (11-inch)Â (8+128)</td>\n",
       "      <td>351212</td>\n",
       "      <td>722399</td>\n",
       "      <td>137145</td>\n",
       "      <td>149463</td>\n",
       "      <td>1360219</td>\n",
       "    </tr>\n",
       "    <tr>\n",
       "      <th>2</th>\n",
       "      <td>iPad Air 5Â (8+64)</td>\n",
       "      <td>345275</td>\n",
       "      <td>635015</td>\n",
       "      <td>107955</td>\n",
       "      <td>140140</td>\n",
       "      <td>1228385</td>\n",
       "    </tr>\n",
       "    <tr>\n",
       "      <th>3</th>\n",
       "      <td>Red Magic 7Â (S-8 Gen 1Â 18/256)</td>\n",
       "      <td>235998</td>\n",
       "      <td>445681</td>\n",
       "      <td>175442</td>\n",
       "      <td>181650</td>\n",
       "      <td>1038771</td>\n",
       "    </tr>\n",
       "    <tr>\n",
       "      <th>4</th>\n",
       "      <td>Redmi K50 ProÂ (M-9000Â 8/128)</td>\n",
       "      <td>244999</td>\n",
       "      <td>390026</td>\n",
       "      <td>169449</td>\n",
       "      <td>182367</td>\n",
       "      <td>986840</td>\n",
       "    </tr>\n",
       "  </tbody>\n",
       "</table>\n",
       "</div>"
      ],
      "text/plain": [
       "                          ï»¿Device     CPU     GPU     MEM      UX  \\\n",
       "0   iPad Pro 5 (12.9-inch)Â (8+256)  351192  741383  183160  153993   \n",
       "1     iPad Pro 5 (11-inch)Â (8+128)  351212  722399  137145  149463   \n",
       "2                iPad Air 5Â (8+64)  345275  635015  107955  140140   \n",
       "3  Red Magic 7Â (S-8 Gen 1Â 18/256)  235998  445681  175442  181650   \n",
       "4    Redmi K50 ProÂ (M-9000Â 8/128)  244999  390026  169449  182367   \n",
       "\n",
       "   Total Score  \n",
       "0      1429728  \n",
       "1      1360219  \n",
       "2      1228385  \n",
       "3      1038771  \n",
       "4       986840  "
      ]
     },
     "execution_count": 12,
     "metadata": {},
     "output_type": "execute_result"
    }
   ],
   "source": [
    "# Fix column names(need to figure why it wont drop the weird characters on device)\n",
    "android_vs_ios_df=android_vs_ios_df.rename(columns={'ï»¿device':'Device','ï»¿': '' })\n",
    "android_vs_ios_df.head()"
   ]
  },
  {
   "cell_type": "code",
   "execution_count": 13,
   "id": "79b09c3c",
   "metadata": {},
   "outputs": [
    {
     "data": {
      "text/html": [
       "<div>\n",
       "<style scoped>\n",
       "    .dataframe tbody tr th:only-of-type {\n",
       "        vertical-align: middle;\n",
       "    }\n",
       "\n",
       "    .dataframe tbody tr th {\n",
       "        vertical-align: top;\n",
       "    }\n",
       "\n",
       "    .dataframe thead th {\n",
       "        text-align: right;\n",
       "    }\n",
       "</style>\n",
       "<table border=\"1\" class=\"dataframe\">\n",
       "  <thead>\n",
       "    <tr style=\"text-align: right;\">\n",
       "      <th></th>\n",
       "      <th>ï»¿Device</th>\n",
       "      <th>CPU</th>\n",
       "      <th>GPU</th>\n",
       "      <th>MEM</th>\n",
       "      <th>UX</th>\n",
       "      <th>Total Score</th>\n",
       "    </tr>\n",
       "  </thead>\n",
       "  <tbody>\n",
       "    <tr>\n",
       "      <th>0</th>\n",
       "      <td>iPad Pro 5 (12.9-inch)Â (8+256)</td>\n",
       "      <td>351192</td>\n",
       "      <td>741383</td>\n",
       "      <td>183160</td>\n",
       "      <td>153993</td>\n",
       "      <td>1429728</td>\n",
       "    </tr>\n",
       "    <tr>\n",
       "      <th>1</th>\n",
       "      <td>iPad Pro 5 (11-inch)Â (8+128)</td>\n",
       "      <td>351212</td>\n",
       "      <td>722399</td>\n",
       "      <td>137145</td>\n",
       "      <td>149463</td>\n",
       "      <td>1360219</td>\n",
       "    </tr>\n",
       "    <tr>\n",
       "      <th>2</th>\n",
       "      <td>iPad Air 5Â (8+64)</td>\n",
       "      <td>345275</td>\n",
       "      <td>635015</td>\n",
       "      <td>107955</td>\n",
       "      <td>140140</td>\n",
       "      <td>1228385</td>\n",
       "    </tr>\n",
       "    <tr>\n",
       "      <th>3</th>\n",
       "      <td>Red Magic 7Â (S-8 Gen 1Â 18/256)</td>\n",
       "      <td>235998</td>\n",
       "      <td>445681</td>\n",
       "      <td>175442</td>\n",
       "      <td>181650</td>\n",
       "      <td>1038771</td>\n",
       "    </tr>\n",
       "    <tr>\n",
       "      <th>4</th>\n",
       "      <td>Redmi K50 ProÂ (M-9000Â 8/128)</td>\n",
       "      <td>244999</td>\n",
       "      <td>390026</td>\n",
       "      <td>169449</td>\n",
       "      <td>182367</td>\n",
       "      <td>986840</td>\n",
       "    </tr>\n",
       "  </tbody>\n",
       "</table>\n",
       "</div>"
      ],
      "text/plain": [
       "                          ï»¿Device     CPU     GPU     MEM      UX  \\\n",
       "0   iPad Pro 5 (12.9-inch)Â (8+256)  351192  741383  183160  153993   \n",
       "1     iPad Pro 5 (11-inch)Â (8+128)  351212  722399  137145  149463   \n",
       "2                iPad Air 5Â (8+64)  345275  635015  107955  140140   \n",
       "3  Red Magic 7Â (S-8 Gen 1Â 18/256)  235998  445681  175442  181650   \n",
       "4    Redmi K50 ProÂ (M-9000Â 8/128)  244999  390026  169449  182367   \n",
       "\n",
       "   Total Score  \n",
       "0      1429728  \n",
       "1      1360219  \n",
       "2      1228385  \n",
       "3      1038771  \n",
       "4       986840  "
      ]
     },
     "execution_count": 13,
     "metadata": {},
     "output_type": "execute_result"
    }
   ],
   "source": [
    "benchmark_df=android_vs_ios_df.rename(columns={'ï»¿device':'Device','ï»¿': '' })\n",
    "benchmark_df.head()"
   ]
  },
  {
   "cell_type": "markdown",
   "id": "27ba15dd",
   "metadata": {},
   "source": [
    "# Merge the data"
   ]
  },
  {
   "cell_type": "code",
   "execution_count": 14,
   "id": "805294ed",
   "metadata": {},
   "outputs": [],
   "source": [
    "# ***having issues with merging thedata because of the weird characters on device***\n",
    "\n",
    "#Combine the data into a single dataset\n",
    "# merged_phone_df = pd.merge(android_vs_ios_df, benchmark_df, how=\"outer\", on=[\"ï»¿Device\"])\n",
    "# merged_phone_df"
   ]
  },
  {
   "cell_type": "markdown",
   "id": "8e38054c",
   "metadata": {},
   "source": [
    "# Manipulate the data"
   ]
  },
  {
   "cell_type": "code",
   "execution_count": 15,
   "id": "b1d45dc1",
   "metadata": {},
   "outputs": [
    {
     "data": {
      "text/html": [
       "<div>\n",
       "<style scoped>\n",
       "    .dataframe tbody tr th:only-of-type {\n",
       "        vertical-align: middle;\n",
       "    }\n",
       "\n",
       "    .dataframe tbody tr th {\n",
       "        vertical-align: top;\n",
       "    }\n",
       "\n",
       "    .dataframe thead th {\n",
       "        text-align: right;\n",
       "    }\n",
       "</style>\n",
       "<table border=\"1\" class=\"dataframe\">\n",
       "  <thead>\n",
       "    <tr style=\"text-align: right;\">\n",
       "      <th></th>\n",
       "      <th>CPU</th>\n",
       "      <th>GPU</th>\n",
       "      <th>MEM</th>\n",
       "      <th>UX</th>\n",
       "      <th>Total Score</th>\n",
       "    </tr>\n",
       "  </thead>\n",
       "  <tbody>\n",
       "    <tr>\n",
       "      <th>CPU</th>\n",
       "      <td>1.000000</td>\n",
       "      <td>0.916648</td>\n",
       "      <td>0.788749</td>\n",
       "      <td>0.761240</td>\n",
       "      <td>0.953742</td>\n",
       "    </tr>\n",
       "    <tr>\n",
       "      <th>GPU</th>\n",
       "      <td>0.916648</td>\n",
       "      <td>1.000000</td>\n",
       "      <td>0.807061</td>\n",
       "      <td>0.732169</td>\n",
       "      <td>0.977957</td>\n",
       "    </tr>\n",
       "    <tr>\n",
       "      <th>MEM</th>\n",
       "      <td>0.788749</td>\n",
       "      <td>0.807061</td>\n",
       "      <td>1.000000</td>\n",
       "      <td>0.879410</td>\n",
       "      <td>0.888577</td>\n",
       "    </tr>\n",
       "    <tr>\n",
       "      <th>UX</th>\n",
       "      <td>0.761240</td>\n",
       "      <td>0.732169</td>\n",
       "      <td>0.879410</td>\n",
       "      <td>1.000000</td>\n",
       "      <td>0.837396</td>\n",
       "    </tr>\n",
       "    <tr>\n",
       "      <th>Total Score</th>\n",
       "      <td>0.953742</td>\n",
       "      <td>0.977957</td>\n",
       "      <td>0.888577</td>\n",
       "      <td>0.837396</td>\n",
       "      <td>1.000000</td>\n",
       "    </tr>\n",
       "  </tbody>\n",
       "</table>\n",
       "</div>"
      ],
      "text/plain": [
       "                  CPU       GPU       MEM        UX  Total Score\n",
       "CPU          1.000000  0.916648  0.788749  0.761240     0.953742\n",
       "GPU          0.916648  1.000000  0.807061  0.732169     0.977957\n",
       "MEM          0.788749  0.807061  1.000000  0.879410     0.888577\n",
       "UX           0.761240  0.732169  0.879410  1.000000     0.837396\n",
       "Total Score  0.953742  0.977957  0.888577  0.837396     1.000000"
      ]
     },
     "execution_count": 15,
     "metadata": {},
     "output_type": "execute_result"
    }
   ],
   "source": [
    "#Run this code to find the pairwise correlation of all columns in the dataframe\n",
    "#This allows the creation of the heatmap below\n",
    "corr_data=android_vs_ios_df.corr()\n",
    "corr_data"
   ]
  },
  {
   "cell_type": "code",
   "execution_count": 16,
   "id": "9885ecc5",
   "metadata": {},
   "outputs": [
    {
     "data": {
      "image/png": "[encoded data removed]",
      "text/plain": [
       "<Figure size 1080x576 with 2 Axes>"
      ]
     },
     "metadata": {
      "needs_background": "light"
     },
     "output_type": "display_data"
    }
   ],
   "source": [
    "#Shows correlation between all variables against each other\n",
    "#need to install seaborn in order to plot heatmap\n",
    "\n",
    "# just testing it out, need to add the real merged table\n",
    "sns.heatmap(corr_data, annot=True,cmap=\"YlGnBu\")\n",
    "plt.gcf().set_size_inches(15, 8)\n",
    "plt.savefig(\"static/Img/heatmapp.png\")\n",
    "plt.show()"
   ]
  },
  {
   "cell_type": "code",
   "execution_count": 17,
   "id": "31916ced",
   "metadata": {},
   "outputs": [],
   "source": [
    "#Run the code below to get a statistical detail of the data set\n",
    "# .describe()"
   ]
  },
  {
   "cell_type": "code",
   "execution_count": null,
   "id": "532bab2a",
   "metadata": {},
   "outputs": [],
   "source": []
  },
  {
   "cell_type": "markdown",
   "id": "94d7fb9b",
   "metadata": {},
   "source": [
    "# Scrape Phone Home pages\n"
   ]
  },
  {
   "cell_type": "code",
   "execution_count": 18,
   "id": "52541c46",
   "metadata": {},
   "outputs": [
    {
     "name": "stdout",
     "output_type": "stream",
     "text": [
      "\n"
     ]
    },
    {
     "name": "stderr",
     "output_type": "stream",
     "text": [
      "[WDM] - ====== WebDriver manager ======\n",
      "[WDM] - Current google-chrome version is 103.0.5060\n",
      "[WDM] - Get LATEST chromedriver version for 103.0.5060 google-chrome\n",
      "[WDM] - Driver [C:\\Users\\Matt\\.wdm\\drivers\\chromedriver\\win32\\103.0.5060.53\\chromedriver.exe] found in cache\n"
     ]
    }
   ],
   "source": [
    "# Set Executable Path & Initialize Chrome Browser\n",
    "# scrape the news site for latest phone news stories\n",
    "executable_path = {'executable_path': ChromeDriverManager().install()}\n",
    "browser = Browser('chrome', **executable_path, headless=True)"
   ]
  },
  {
   "cell_type": "code",
   "execution_count": 19,
   "id": "a13d9581",
   "metadata": {},
   "outputs": [],
   "source": [
    "# Visit the Pocket-Lint News Site\n",
    "# proof of concept to later build a for loop for the whole page\n",
    "url = \"https://www.pocket-lint.com/phones/news\"\n",
    "browser.visit(url)"
   ]
  },
  {
   "cell_type": "code",
   "execution_count": 43,
   "id": "f8dcb60c",
   "metadata": {},
   "outputs": [],
   "source": [
    "# Parse Results HTML with BeautifulSoup\n",
    "# Find Everything Inside:\n",
    "#   <div class=\"article\">\n",
    "#     \n",
    "\n",
    "html = browser.html\n",
    "news_soup = BeautifulSoup(html, \"html.parser\")\n",
    "slide_element = news_soup.select_one(\"div.articles\")"
   ]
  },
  {
   "cell_type": "code",
   "execution_count": 44,
   "id": "4a901190",
   "metadata": {},
   "outputs": [
    {
     "data": {
      "text/plain": [
       "<div class=\"article\" data-type=\"News\">\n",
       "<a href=\"https://www.pocket-lint.com/phones/news/htc/161660-htc-desire-22-pro-is-the-viverse-phone-we-were-expecting\" title=\"HTC Desire 22 Pro is the Viverse phone we were expecting\"></a>\n",
       "<span class=\"article-thumbnail\">\n",
       "<img alt=\"HTC Desire 22 Pro is the Viverse phone we were expecting\" src=\"//cdn.pocket-lint.com/r/c/120x120/assets/images/161660-homepage-news-htc-desire-22-pro-is-the-viverse-phone-we-were-expecting-image1-abm9ckowq4.jpg\"/>\n",
       "</span>\n",
       "<div class=\"article-info\">\n",
       "<span class=\"article-info-title\">\n",
       "<span>HTC Desire 22 Pro is the Viverse phone we were expecting</span>\n",
       "</span>\n",
       "<span class=\"article-info-publish\">\n",
       "<!--· <span class=\"best-offer\"></span>-->\n",
       "<span style=\"display: block; margin-top:2px;\"></span>\n",
       "                By                <span class=\"author\">Rik Henderson</span>\n",
       "                ·\n",
       "                <time datetime=\"2022-06-28T10:46:12+01:00\" pubdate=\"pubdate\">28 June 2022</time>\n",
       "</span>\n",
       "<p class=\"article-info-description\">HTC is back with a new midrange smartphone that, like many of its releases in the last few years, comes with a significant gimmick. </p>\n",
       "</div>\n",
       "</div>"
      ]
     },
     "execution_count": 44,
     "metadata": {},
     "output_type": "execute_result"
    }
   ],
   "source": [
    "slide_element.find(\"div\", class_=\"article\")"
   ]
  },
  {
   "cell_type": "code",
   "execution_count": 47,
   "id": "874a0d1f",
   "metadata": {},
   "outputs": [
    {
     "name": "stdout",
     "output_type": "stream",
     "text": [
      "\n",
      "HTC Desire 22 Pro is the Viverse phone we were expecting\n",
      "\n"
     ]
    }
   ],
   "source": [
    "# Scrape the Latest News Title\n",
    "# <span class=\"artifcle-info-title\">\n",
    "news_title = slide_element.find(\"span\", class_=\"article-info-title\").get_text()\n",
    "print(news_title)"
   ]
  },
  {
   "cell_type": "code",
   "execution_count": 54,
   "id": "780f612d",
   "metadata": {},
   "outputs": [
    {
     "name": "stdout",
     "output_type": "stream",
     "text": [
      "HTC is back with a new midrange smartphone that, like many of its releases in the last few years, comes with a significant gimmick. \n"
     ]
    }
   ],
   "source": [
    "# Scrape for the paragraph\n",
    "# <p class=\"article-info-description\">\n",
    "news_p = slide_element.find(\"p\", class_=\"article-info-description\").get_text()\n",
    "print(news_p)"
   ]
  },
  {
   "cell_type": "code",
   "execution_count": 65,
   "id": "fca12125",
   "metadata": {},
   "outputs": [
    {
     "ename": "ElementDoesNotExist",
     "evalue": "no elements could be found with css \"span.article-info-title\"",
     "output_type": "error",
     "traceback": [
      "\u001b[1;31m---------------------------------------------------------------------------\u001b[0m",
      "\u001b[1;31mIndexError\u001b[0m                                Traceback (most recent call last)",
      "\u001b[1;32m~\\anaconda3\\envs\\PythonData\\lib\\site-packages\\splinter\\element_list.py\u001b[0m in \u001b[0;36m__getitem__\u001b[1;34m(self, index)\u001b[0m\n\u001b[0;32m     38\u001b[0m         \u001b[1;32mtry\u001b[0m\u001b[1;33m:\u001b[0m\u001b[1;33m\u001b[0m\u001b[1;33m\u001b[0m\u001b[0m\n\u001b[1;32m---> 39\u001b[1;33m             \u001b[1;32mreturn\u001b[0m \u001b[0mself\u001b[0m\u001b[1;33m.\u001b[0m\u001b[0m_container\u001b[0m\u001b[1;33m[\u001b[0m\u001b[0mindex\u001b[0m\u001b[1;33m]\u001b[0m\u001b[1;33m\u001b[0m\u001b[1;33m\u001b[0m\u001b[0m\n\u001b[0m\u001b[0;32m     40\u001b[0m         \u001b[1;32mexcept\u001b[0m \u001b[0mIndexError\u001b[0m\u001b[1;33m:\u001b[0m\u001b[1;33m\u001b[0m\u001b[1;33m\u001b[0m\u001b[0m\n",
      "\u001b[1;31mIndexError\u001b[0m: list index out of range",
      "\nDuring handling of the above exception, another exception occurred:\n",
      "\u001b[1;31mElementDoesNotExist\u001b[0m                       Traceback (most recent call last)",
      "\u001b[1;32m<ipython-input-65-8ae34dda19aa>\u001b[0m in \u001b[0;36m<module>\u001b[1;34m\u001b[0m\n\u001b[0;32m     24\u001b[0m \u001b[1;31m#     element = browser.find_link_by_text('article-info-title').first\u001b[0m\u001b[1;33m\u001b[0m\u001b[1;33m\u001b[0m\u001b[1;33m\u001b[0m\u001b[0m\n\u001b[0;32m     25\u001b[0m \u001b[1;31m#     img_url = element['title']\u001b[0m\u001b[1;33m\u001b[0m\u001b[1;33m\u001b[0m\u001b[1;33m\u001b[0m\u001b[0m\n\u001b[1;32m---> 26\u001b[1;33m     \u001b[0mtitle\u001b[0m \u001b[1;33m=\u001b[0m \u001b[0mbrowser\u001b[0m\u001b[1;33m.\u001b[0m\u001b[0mfind_by_css\u001b[0m\u001b[1;33m(\u001b[0m\u001b[1;34m\"span.article-info-title\"\u001b[0m\u001b[1;33m)\u001b[0m\u001b[1;33m.\u001b[0m\u001b[0mtext\u001b[0m\u001b[1;33m\u001b[0m\u001b[1;33m\u001b[0m\u001b[0m\n\u001b[0m\u001b[0;32m     27\u001b[0m \u001b[1;31m#     hemispheres[\"img_url\"] = img_url\u001b[0m\u001b[1;33m\u001b[0m\u001b[1;33m\u001b[0m\u001b[1;33m\u001b[0m\u001b[0m\n\u001b[0;32m     28\u001b[0m     \u001b[0mhemispheres\u001b[0m\u001b[1;33m[\u001b[0m\u001b[1;34m\"article\"\u001b[0m\u001b[1;33m]\u001b[0m \u001b[1;33m=\u001b[0m \u001b[0mtitle\u001b[0m\u001b[1;33m\u001b[0m\u001b[1;33m\u001b[0m\u001b[0m\n",
      "\u001b[1;32m~\\anaconda3\\envs\\PythonData\\lib\\site-packages\\splinter\\element_list.py\u001b[0m in \u001b[0;36m__getattr__\u001b[1;34m(self, name)\u001b[0m\n\u001b[0;32m     75\u001b[0m     \u001b[1;32mdef\u001b[0m \u001b[0m__getattr__\u001b[0m\u001b[1;33m(\u001b[0m\u001b[0mself\u001b[0m\u001b[1;33m,\u001b[0m \u001b[0mname\u001b[0m\u001b[1;33m)\u001b[0m\u001b[1;33m:\u001b[0m\u001b[1;33m\u001b[0m\u001b[1;33m\u001b[0m\u001b[0m\n\u001b[0;32m     76\u001b[0m         \u001b[1;32mtry\u001b[0m\u001b[1;33m:\u001b[0m\u001b[1;33m\u001b[0m\u001b[1;33m\u001b[0m\u001b[0m\n\u001b[1;32m---> 77\u001b[1;33m             \u001b[1;32mreturn\u001b[0m \u001b[0mgetattr\u001b[0m\u001b[1;33m(\u001b[0m\u001b[0mself\u001b[0m\u001b[1;33m.\u001b[0m\u001b[0mfirst\u001b[0m\u001b[1;33m,\u001b[0m \u001b[0mname\u001b[0m\u001b[1;33m)\u001b[0m\u001b[1;33m\u001b[0m\u001b[1;33m\u001b[0m\u001b[0m\n\u001b[0m\u001b[0;32m     78\u001b[0m         \u001b[1;32mexcept\u001b[0m \u001b[0mAttributeError\u001b[0m\u001b[1;33m:\u001b[0m\u001b[1;33m\u001b[0m\u001b[1;33m\u001b[0m\u001b[0m\n\u001b[0;32m     79\u001b[0m             \u001b[1;32mtry\u001b[0m\u001b[1;33m:\u001b[0m\u001b[1;33m\u001b[0m\u001b[1;33m\u001b[0m\u001b[0m\n",
      "\u001b[1;32m~\\anaconda3\\envs\\PythonData\\lib\\site-packages\\splinter\\element_list.py\u001b[0m in \u001b[0;36mfirst\u001b[1;34m(self)\u001b[0m\n\u001b[0;32m     53\u001b[0m             \u001b[1;33m>>\u001b[0m\u001b[1;33m>\u001b[0m \u001b[1;32massert\u001b[0m \u001b[0melement_list\u001b[0m\u001b[1;33m[\u001b[0m\u001b[1;36m0\u001b[0m\u001b[1;33m]\u001b[0m \u001b[1;33m==\u001b[0m \u001b[0melement_list\u001b[0m\u001b[1;33m.\u001b[0m\u001b[0mfirst\u001b[0m\u001b[1;33m\u001b[0m\u001b[1;33m\u001b[0m\u001b[0m\n\u001b[0;32m     54\u001b[0m         \"\"\"\n\u001b[1;32m---> 55\u001b[1;33m         \u001b[1;32mreturn\u001b[0m \u001b[0mself\u001b[0m\u001b[1;33m[\u001b[0m\u001b[1;36m0\u001b[0m\u001b[1;33m]\u001b[0m\u001b[1;33m\u001b[0m\u001b[1;33m\u001b[0m\u001b[0m\n\u001b[0m\u001b[0;32m     56\u001b[0m \u001b[1;33m\u001b[0m\u001b[0m\n\u001b[0;32m     57\u001b[0m     \u001b[1;33m@\u001b[0m\u001b[0mproperty\u001b[0m\u001b[1;33m\u001b[0m\u001b[1;33m\u001b[0m\u001b[0m\n",
      "\u001b[1;32m~\\anaconda3\\envs\\PythonData\\lib\\site-packages\\splinter\\element_list.py\u001b[0m in \u001b[0;36m__getitem__\u001b[1;34m(self, index)\u001b[0m\n\u001b[0;32m     41\u001b[0m             raise ElementDoesNotExist(\n\u001b[0;32m     42\u001b[0m                 u'no elements could be found with {0} \"{1}\"'.format(\n\u001b[1;32m---> 43\u001b[1;33m                     \u001b[0mself\u001b[0m\u001b[1;33m.\u001b[0m\u001b[0mfind_by\u001b[0m\u001b[1;33m,\u001b[0m \u001b[0mself\u001b[0m\u001b[1;33m.\u001b[0m\u001b[0mquery\u001b[0m\u001b[1;33m\u001b[0m\u001b[1;33m\u001b[0m\u001b[0m\n\u001b[0m\u001b[0;32m     44\u001b[0m                 )\n\u001b[0;32m     45\u001b[0m             )\n",
      "\u001b[1;31mElementDoesNotExist\u001b[0m: no elements could be found with css \"span.article-info-title\""
     ]
    }
   ],
   "source": [
    "# create a for loop to scrape for all the article\n",
    "#Create a list to hold the titles,url,image and paragraph.\n",
    "phone_title_url_img_par = []\n",
    "    \n",
    "    #Write code to retrieve the image urls and titles for each news article.\n",
    "for i in range(4):\n",
    "    #create empty dictionary\n",
    "    phone = {}\n",
    "    browser.find_by_css('a')[i].click()\n",
    "#     element = browser.find_link_by_text('article-info-title').first\n",
    "#     img_url = element['title']\n",
    "    title = browser.find_by_css(\"span.article-info-title\").text \n",
    "#     hemispheres[\"img_url\"] = img_url\n",
    "    hemispheres[\"article\"] = title\n",
    "    phone_title_url_img_par.append(hemispheres)\n",
    "    browser.back()"
   ]
  },
  {
   "cell_type": "code",
   "execution_count": null,
   "id": "3965bb76",
   "metadata": {},
   "outputs": [],
   "source": []
  },
  {
   "cell_type": "code",
   "execution_count": null,
   "id": "7c450216",
   "metadata": {},
   "outputs": [],
   "source": []
  },
  {
   "cell_type": "code",
   "execution_count": null,
   "id": "fbd18cb4",
   "metadata": {},
   "outputs": [],
   "source": []
  },
  {
   "cell_type": "code",
   "execution_count": null,
   "id": "59acef2f",
   "metadata": {},
   "outputs": [],
   "source": []
  }
 ],
 "metadata": {
  "kernelspec": {
   "display_name": "Python 3",
   "language": "python",
   "name": "python3"
  },
  "language_info": {
   "codemirror_mode": {
    "name": "ipython",
    "version": 3
   },
   "file_extension": ".py",
   "mimetype": "text/x-python",
   "name": "python",
   "nbconvert_exporter": "python",
   "pygments_lexer": "ipython3",
   "version": "3.6.13"
  }
 },
 "nbformat": 4,
 "nbformat_minor": 5
}
